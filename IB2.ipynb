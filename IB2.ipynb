{
 "cells": [
  {
   "cell_type": "code",
   "execution_count": 1,
   "id": "ac7ba0d3",
   "metadata": {},
   "outputs": [],
   "source": [
    "#IB2"
   ]
  },
  {
   "cell_type": "code",
   "execution_count": 3,
   "id": "b8410572",
   "metadata": {},
   "outputs": [
    {
     "name": "stdout",
     "output_type": "stream",
     "text": [
      "Which normalized datafile should we work on? :iris_normalized\n"
     ]
    }
   ],
   "source": [
    "import pandas as pd\n",
    "import numpy as np\n",
    "import math\n",
    "\n",
    "normalizedFileName = input(\"Which normalized datafile should we work on? :\")#normalized_data.csv\n",
    "df = pd.read_csv(normalizedFileName+'.csv')\n",
    "\n",
    "def computeDistanceMatrix(Ts):\n",
    "    atrDf = Ts.iloc[:,0:-1]\n",
    "    plh8osRows = len(atrDf.index)\n",
    "    #distance: sqrt(sum(square(a-b))) . Calculating it for all possible pairs of a and b excluding a=b\n",
    "    datalist=[]\n",
    "    for i2 in range(0,plh8osRows):\n",
    "        rowData=[None]*i2\n",
    "        for i1 in range(i2, plh8osRows):\n",
    "            rowData.append( math.sqrt(sum(np.square(atrDf.loc[i1,atr]-atrDf.loc[i2,atr])for atr in atrDf.columns)) )\n",
    "        datalist.append(rowData)\n",
    "        \n",
    "    plh8osCols = plh8osRows #the distance matrix is square\n",
    "    for i in range(0,plh8osRows-1):\n",
    "        for j in range(i+1, plh8osCols):\n",
    "            datalist[j][i] = datalist[i][j] \n",
    "    print(\"dm computated\")\n",
    "    return pd.DataFrame(datalist)\n",
    "\n",
    "def IB2(Ts):\n",
    "    try:\n",
    "        dm = pd.read_csv(normalizedFileName.split('_normalized')[0]+ '_DistanceMatrix' +'.csv')\n",
    "    except:\n",
    "        print('computating distance matrix...')\n",
    "        dm= computeDistanceMatrix(Ts)\n",
    "        dm.to_csv(normalizedFileName.split('_normalized')[0] + '_DistanceMatrix.csv', index=False)\n",
    "        \n",
    "    CS = Ts.sample()   #selecting a random starting point  \n",
    "\n",
    "    for eggrafhId in Ts.index: #dld 0,149\n",
    "        distances=dm.iloc[:,eggrafhId] #οthe distances of all elements from the element with id = eggrafhId\n",
    "        CSids=CS.index #ids that exist in CS \n",
    "        distances=distances.filter(items=CSids) #I keep only the distances from the elements existing in CS\n",
    "#         print(distances)\n",
    "\n",
    "        currentEggrafh = Ts.iloc[eggrafhId,:]\n",
    "        #finding the data with the smallest distance\n",
    "        minDistEggrafh = distances[distances == min(distances)]\n",
    "\n",
    "        NNinCSid =  minDistEggrafh.keys()[0] #in ties, we keep the lexicographically lesser\n",
    "        NN=Ts.iloc[NNinCSid,:]\n",
    "        if NN['class'] != currentEggrafh['class']:\n",
    "        #insert\n",
    "            CS.loc[eggrafhId] = Ts.iloc[eggrafhId,:]   \n",
    "    return CS\n",
    "\n",
    "reducedData=IB2(df)\n",
    "reducedData.to_csv(normalizedFileName.split('_normalized')[0] + 'IB2.csv', index=False)"
   ]
  },
  {
   "cell_type": "code",
   "execution_count": null,
   "id": "0cff0df2",
   "metadata": {},
   "outputs": [],
   "source": []
  }
 ],
 "metadata": {
  "kernelspec": {
   "display_name": "Python 3 (ipykernel)",
   "language": "python",
   "name": "python3"
  },
  "language_info": {
   "codemirror_mode": {
    "name": "ipython",
    "version": 3
   },
   "file_extension": ".py",
   "mimetype": "text/x-python",
   "name": "python",
   "nbconvert_exporter": "python",
   "pygments_lexer": "ipython3",
   "version": "3.10.7"
  }
 },
 "nbformat": 4,
 "nbformat_minor": 5
}
