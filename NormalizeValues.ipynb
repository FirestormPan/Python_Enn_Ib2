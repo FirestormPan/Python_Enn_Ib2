{
 "cells": [
  {
   "cell_type": "code",
   "execution_count": null,
   "id": "462f7754",
   "metadata": {},
   "outputs": [],
   "source": [
    "#NormalizeValues"
   ]
  },
  {
   "cell_type": "code",
   "execution_count": 1,
   "id": "261b306b",
   "metadata": {},
   "outputs": [],
   "source": [
    "import pandas as pd\n",
    "import numpy as np\n",
    "import math\n",
    "\n",
    "file_name = input(\"Which datafile should we normalize? :\")# \"letter-recognition\" , \"iris\"\n",
    "df = pd.read_csv(file_name+'.csv')\n",
    "\n",
    "NUMBER_OF_ATTRIBUTES = len(df.columns)-1 #the attributes excluding the class\n",
    "#initializing the max/min values as none\n",
    "maxValues = [None]* NUMBER_OF_ATTRIBUTES\n",
    "minValues = [None]* NUMBER_OF_ATTRIBUTES\n",
    "for index in range(0, NUMBER_OF_ATTRIBUTES): #calculating the max and min value for each attribute\n",
    "    maxValues[index] = max( df.loc[:,df.columns[index]] ) \n",
    "    minValues[index] = min( df.loc[:,df.columns[index]] ) \n",
    "\n",
    "#normalization based on: zi = (xi – min(x)) / (max(x) – min(x))\n",
    "for colName in df.iloc[:,0:-1]:#for each column name\n",
    "    i = [x for x in df.columns].index(colName)#index = the index of the name in the df\n",
    "    df[colName] = df[colName].apply(lambda x : (x-minValues[i])/(maxValues[i]-minValues[i]) ) #normalization\n",
    "\n",
    "df.to_csv(file_name+'_normalized.csv', index=False)"
   ]
  },
  {
   "cell_type": "code",
   "execution_count": null,
   "id": "d18d97d6",
   "metadata": {},
   "outputs": [],
   "source": []
  }
 ],
 "metadata": {
  "kernelspec": {
   "display_name": "Python 3 (ipykernel)",
   "language": "python",
   "name": "python3"
  },
  "language_info": {
   "codemirror_mode": {
    "name": "ipython",
    "version": 3
   },
   "file_extension": ".py",
   "mimetype": "text/x-python",
   "name": "python",
   "nbconvert_exporter": "python",
   "pygments_lexer": "ipython3",
   "version": "3.10.7"
  }
 },
 "nbformat": 4,
 "nbformat_minor": 5
}
